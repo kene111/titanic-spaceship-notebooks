{
 "cells": [
  {
   "cell_type": "markdown",
   "metadata": {},
   "source": [
    "### Import Libraries"
   ]
  },
  {
   "cell_type": "code",
   "execution_count": 1,
   "metadata": {},
   "outputs": [],
   "source": [
    "import psycopg2\n",
    "from psycopg2 import sql\n",
    "import pandas as pd\n",
    "from sqlalchemy import create_engine"
   ]
  },
  {
   "cell_type": "markdown",
   "metadata": {},
   "source": [
    "### Import data"
   ]
  },
  {
   "cell_type": "code",
   "execution_count": 2,
   "metadata": {},
   "outputs": [],
   "source": [
    "data = pd.read_csv(\"dataset/train.csv\")"
   ]
  },
  {
   "cell_type": "code",
   "execution_count": 3,
   "metadata": {
    "scrolled": false
   },
   "outputs": [
    {
     "data": {
      "text/html": [
       "<div>\n",
       "<style scoped>\n",
       "    .dataframe tbody tr th:only-of-type {\n",
       "        vertical-align: middle;\n",
       "    }\n",
       "\n",
       "    .dataframe tbody tr th {\n",
       "        vertical-align: top;\n",
       "    }\n",
       "\n",
       "    .dataframe thead th {\n",
       "        text-align: right;\n",
       "    }\n",
       "</style>\n",
       "<table border=\"1\" class=\"dataframe\">\n",
       "  <thead>\n",
       "    <tr style=\"text-align: right;\">\n",
       "      <th></th>\n",
       "      <th>PassengerId</th>\n",
       "      <th>HomePlanet</th>\n",
       "      <th>CryoSleep</th>\n",
       "      <th>Cabin</th>\n",
       "      <th>Destination</th>\n",
       "      <th>Age</th>\n",
       "      <th>VIP</th>\n",
       "      <th>RoomService</th>\n",
       "      <th>FoodCourt</th>\n",
       "      <th>ShoppingMall</th>\n",
       "      <th>Spa</th>\n",
       "      <th>VRDeck</th>\n",
       "      <th>Name</th>\n",
       "      <th>Transported</th>\n",
       "    </tr>\n",
       "  </thead>\n",
       "  <tbody>\n",
       "    <tr>\n",
       "      <th>0</th>\n",
       "      <td>0001_01</td>\n",
       "      <td>Europa</td>\n",
       "      <td>False</td>\n",
       "      <td>B/0/P</td>\n",
       "      <td>TRAPPIST-1e</td>\n",
       "      <td>39.0</td>\n",
       "      <td>False</td>\n",
       "      <td>0.0</td>\n",
       "      <td>0.0</td>\n",
       "      <td>0.0</td>\n",
       "      <td>0.0</td>\n",
       "      <td>0.0</td>\n",
       "      <td>Maham Ofracculy</td>\n",
       "      <td>False</td>\n",
       "    </tr>\n",
       "    <tr>\n",
       "      <th>1</th>\n",
       "      <td>0002_01</td>\n",
       "      <td>Earth</td>\n",
       "      <td>False</td>\n",
       "      <td>F/0/S</td>\n",
       "      <td>TRAPPIST-1e</td>\n",
       "      <td>24.0</td>\n",
       "      <td>False</td>\n",
       "      <td>109.0</td>\n",
       "      <td>9.0</td>\n",
       "      <td>25.0</td>\n",
       "      <td>549.0</td>\n",
       "      <td>44.0</td>\n",
       "      <td>Juanna Vines</td>\n",
       "      <td>True</td>\n",
       "    </tr>\n",
       "    <tr>\n",
       "      <th>2</th>\n",
       "      <td>0003_01</td>\n",
       "      <td>Europa</td>\n",
       "      <td>False</td>\n",
       "      <td>A/0/S</td>\n",
       "      <td>TRAPPIST-1e</td>\n",
       "      <td>58.0</td>\n",
       "      <td>True</td>\n",
       "      <td>43.0</td>\n",
       "      <td>3576.0</td>\n",
       "      <td>0.0</td>\n",
       "      <td>6715.0</td>\n",
       "      <td>49.0</td>\n",
       "      <td>Altark Susent</td>\n",
       "      <td>False</td>\n",
       "    </tr>\n",
       "    <tr>\n",
       "      <th>3</th>\n",
       "      <td>0003_02</td>\n",
       "      <td>Europa</td>\n",
       "      <td>False</td>\n",
       "      <td>A/0/S</td>\n",
       "      <td>TRAPPIST-1e</td>\n",
       "      <td>33.0</td>\n",
       "      <td>False</td>\n",
       "      <td>0.0</td>\n",
       "      <td>1283.0</td>\n",
       "      <td>371.0</td>\n",
       "      <td>3329.0</td>\n",
       "      <td>193.0</td>\n",
       "      <td>Solam Susent</td>\n",
       "      <td>False</td>\n",
       "    </tr>\n",
       "    <tr>\n",
       "      <th>4</th>\n",
       "      <td>0004_01</td>\n",
       "      <td>Earth</td>\n",
       "      <td>False</td>\n",
       "      <td>F/1/S</td>\n",
       "      <td>TRAPPIST-1e</td>\n",
       "      <td>16.0</td>\n",
       "      <td>False</td>\n",
       "      <td>303.0</td>\n",
       "      <td>70.0</td>\n",
       "      <td>151.0</td>\n",
       "      <td>565.0</td>\n",
       "      <td>2.0</td>\n",
       "      <td>Willy Santantines</td>\n",
       "      <td>True</td>\n",
       "    </tr>\n",
       "  </tbody>\n",
       "</table>\n",
       "</div>"
      ],
      "text/plain": [
       "  PassengerId HomePlanet CryoSleep  Cabin  Destination   Age    VIP  \\\n",
       "0     0001_01     Europa     False  B/0/P  TRAPPIST-1e  39.0  False   \n",
       "1     0002_01      Earth     False  F/0/S  TRAPPIST-1e  24.0  False   \n",
       "2     0003_01     Europa     False  A/0/S  TRAPPIST-1e  58.0   True   \n",
       "3     0003_02     Europa     False  A/0/S  TRAPPIST-1e  33.0  False   \n",
       "4     0004_01      Earth     False  F/1/S  TRAPPIST-1e  16.0  False   \n",
       "\n",
       "   RoomService  FoodCourt  ShoppingMall     Spa  VRDeck               Name  \\\n",
       "0          0.0        0.0           0.0     0.0     0.0    Maham Ofracculy   \n",
       "1        109.0        9.0          25.0   549.0    44.0       Juanna Vines   \n",
       "2         43.0     3576.0           0.0  6715.0    49.0      Altark Susent   \n",
       "3          0.0     1283.0         371.0  3329.0   193.0       Solam Susent   \n",
       "4        303.0       70.0         151.0   565.0     2.0  Willy Santantines   \n",
       "\n",
       "   Transported  \n",
       "0        False  \n",
       "1         True  \n",
       "2        False  \n",
       "3        False  \n",
       "4         True  "
      ]
     },
     "execution_count": 3,
     "metadata": {},
     "output_type": "execute_result"
    }
   ],
   "source": [
    "data.head()"
   ]
  },
  {
   "cell_type": "code",
   "execution_count": 4,
   "metadata": {},
   "outputs": [
    {
     "data": {
      "text/plain": [
       "(8693, 14)"
      ]
     },
     "execution_count": 4,
     "metadata": {},
     "output_type": "execute_result"
    }
   ],
   "source": [
    "data.shape"
   ]
  },
  {
   "cell_type": "code",
   "execution_count": 5,
   "metadata": {
    "scrolled": true
   },
   "outputs": [
    {
     "data": {
      "text/plain": [
       "Index(['PassengerId', 'HomePlanet', 'CryoSleep', 'Cabin', 'Destination', 'Age',\n",
       "       'VIP', 'RoomService', 'FoodCourt', 'ShoppingMall', 'Spa', 'VRDeck',\n",
       "       'Name', 'Transported'],\n",
       "      dtype='object')"
      ]
     },
     "execution_count": 5,
     "metadata": {},
     "output_type": "execute_result"
    }
   ],
   "source": [
    "data.columns"
   ]
  },
  {
   "cell_type": "code",
   "execution_count": 6,
   "metadata": {},
   "outputs": [
    {
     "name": "stdout",
     "output_type": "stream",
     "text": [
      "<class 'pandas.core.frame.DataFrame'>\n",
      "RangeIndex: 8693 entries, 0 to 8692\n",
      "Data columns (total 14 columns):\n",
      " #   Column        Non-Null Count  Dtype  \n",
      "---  ------        --------------  -----  \n",
      " 0   PassengerId   8693 non-null   object \n",
      " 1   HomePlanet    8492 non-null   object \n",
      " 2   CryoSleep     8476 non-null   object \n",
      " 3   Cabin         8494 non-null   object \n",
      " 4   Destination   8511 non-null   object \n",
      " 5   Age           8514 non-null   float64\n",
      " 6   VIP           8490 non-null   object \n",
      " 7   RoomService   8512 non-null   float64\n",
      " 8   FoodCourt     8510 non-null   float64\n",
      " 9   ShoppingMall  8485 non-null   float64\n",
      " 10  Spa           8510 non-null   float64\n",
      " 11  VRDeck        8505 non-null   float64\n",
      " 12  Name          8493 non-null   object \n",
      " 13  Transported   8693 non-null   bool   \n",
      "dtypes: bool(1), float64(6), object(7)\n",
      "memory usage: 891.5+ KB\n"
     ]
    }
   ],
   "source": [
    "data.info()"
   ]
  },
  {
   "cell_type": "code",
   "execution_count": 7,
   "metadata": {},
   "outputs": [],
   "source": [
    "def correct_datatype(data):\n",
    "    obj_cols = [\"PassengerId\",\"Cabin\",\"Destination\"]\n",
    "    num_cols = ['Age', 'RoomService', 'FoodCourt','ShoppingMall', 'Spa', 'VRDeck']\n",
    "    bool_cols = [\"CryoSleep\",\"Transported\"]\n",
    "    cat_cols = [col for col in data.columns if col not in obj_cols+num_cols+bool_cols]\n",
    "\n",
    "    for col in data.columns:\n",
    "        if col in bool_cols:\n",
    "            data[col] = data[col].astype('bool')\n",
    "        elif col in cat_cols:\n",
    "            data[col] = data[col].astype('category')\n",
    "        elif col in num_cols:\n",
    "            data[col] = data[col].astype('float')\n",
    "\n",
    "    return data"
   ]
  },
  {
   "cell_type": "code",
   "execution_count": 8,
   "metadata": {},
   "outputs": [],
   "source": [
    "data = correct_datatype(data)"
   ]
  },
  {
   "cell_type": "code",
   "execution_count": 9,
   "metadata": {
    "scrolled": true
   },
   "outputs": [
    {
     "name": "stdout",
     "output_type": "stream",
     "text": [
      "<class 'pandas.core.frame.DataFrame'>\n",
      "RangeIndex: 8693 entries, 0 to 8692\n",
      "Data columns (total 14 columns):\n",
      " #   Column        Non-Null Count  Dtype   \n",
      "---  ------        --------------  -----   \n",
      " 0   PassengerId   8693 non-null   object  \n",
      " 1   HomePlanet    8492 non-null   category\n",
      " 2   CryoSleep     8693 non-null   bool    \n",
      " 3   Cabin         8494 non-null   object  \n",
      " 4   Destination   8511 non-null   object  \n",
      " 5   Age           8514 non-null   float64 \n",
      " 6   VIP           8490 non-null   category\n",
      " 7   RoomService   8512 non-null   float64 \n",
      " 8   FoodCourt     8510 non-null   float64 \n",
      " 9   ShoppingMall  8485 non-null   float64 \n",
      " 10  Spa           8510 non-null   float64 \n",
      " 11  VRDeck        8505 non-null   float64 \n",
      " 12  Name          8493 non-null   category\n",
      " 13  Transported   8693 non-null   bool    \n",
      "dtypes: bool(2), category(3), float64(6), object(3)\n",
      "memory usage: 1.0+ MB\n"
     ]
    }
   ],
   "source": [
    "data.info()"
   ]
  },
  {
   "cell_type": "markdown",
   "metadata": {},
   "source": [
    "### Populate the database\n"
   ]
  },
  {
   "cell_type": "code",
   "execution_count": 10,
   "metadata": {},
   "outputs": [],
   "source": [
    "engine = create_engine(\"< INSERT DATABASE URI >\", echo = True)"
   ]
  },
  {
   "cell_type": "code",
   "execution_count": 11,
   "metadata": {},
   "outputs": [
    {
     "name": "stdout",
     "output_type": "stream",
     "text": [
      "2022-03-26 15:33:35,042 INFO sqlalchemy.engine.base.Engine select version()\n",
      "2022-03-26 15:33:35,044 INFO sqlalchemy.engine.base.Engine {}\n",
      "2022-03-26 15:33:35,472 INFO sqlalchemy.engine.base.Engine select current_schema()\n",
      "2022-03-26 15:33:35,474 INFO sqlalchemy.engine.base.Engine {}\n",
      "2022-03-26 15:33:35,905 INFO sqlalchemy.engine.base.Engine SELECT CAST('test plain returns' AS VARCHAR(60)) AS anon_1\n",
      "2022-03-26 15:33:35,907 INFO sqlalchemy.engine.base.Engine {}\n",
      "2022-03-26 15:33:36,110 INFO sqlalchemy.engine.base.Engine SELECT CAST('test unicode returns' AS VARCHAR(60)) AS anon_1\n",
      "2022-03-26 15:33:36,113 INFO sqlalchemy.engine.base.Engine {}\n",
      "2022-03-26 15:33:36,341 INFO sqlalchemy.engine.base.Engine show standard_conforming_strings\n",
      "2022-03-26 15:33:36,342 INFO sqlalchemy.engine.base.Engine {}\n",
      "2022-03-26 15:33:36,760 INFO sqlalchemy.engine.base.Engine select relname from pg_class c join pg_namespace n on n.oid=c.relnamespace where pg_catalog.pg_table_is_visible(c.oid) and relname=%(name)s\n",
      "2022-03-26 15:33:36,761 INFO sqlalchemy.engine.base.Engine {'name': 'titanicspaceship'}\n",
      "2022-03-26 15:33:37,438 INFO sqlalchemy.engine.base.Engine \n",
      "CREATE TABLE titanicspaceship (\n",
      "\tindex BIGINT, \n",
      "\t\"PassengerId\" TEXT, \n",
      "\t\"HomePlanet\" TEXT, \n",
      "\t\"CryoSleep\" BOOLEAN, \n",
      "\t\"Cabin\" TEXT, \n",
      "\t\"Destination\" TEXT, \n",
      "\t\"Age\" FLOAT(53), \n",
      "\t\"VIP\" TEXT, \n",
      "\t\"RoomService\" FLOAT(53), \n",
      "\t\"FoodCourt\" FLOAT(53), \n",
      "\t\"ShoppingMall\" FLOAT(53), \n",
      "\t\"Spa\" FLOAT(53), \n",
      "\t\"VRDeck\" FLOAT(53), \n",
      "\t\"Name\" TEXT, \n",
      "\t\"Transported\" BOOLEAN\n",
      ")\n",
      "\n",
      "\n",
      "2022-03-26 15:33:37,439 INFO sqlalchemy.engine.base.Engine {}\n",
      "2022-03-26 15:33:38,095 INFO sqlalchemy.engine.base.Engine COMMIT\n",
      "2022-03-26 15:33:38,325 INFO sqlalchemy.engine.base.Engine CREATE INDEX ix_titanicspaceship_index ON titanicspaceship (index)\n",
      "2022-03-26 15:33:38,326 INFO sqlalchemy.engine.base.Engine {}\n",
      "2022-03-26 15:33:38,950 INFO sqlalchemy.engine.base.Engine COMMIT\n",
      "2022-03-26 15:33:39,194 INFO sqlalchemy.engine.base.Engine BEGIN (implicit)\n",
      "2022-03-26 15:33:39,425 INFO sqlalchemy.engine.base.Engine INSERT INTO titanicspaceship (index, \"PassengerId\", \"HomePlanet\", \"CryoSleep\", \"Cabin\", \"Destination\", \"Age\", \"VIP\", \"RoomService\", \"FoodCourt\", \"ShoppingMall\", \"Spa\", \"VRDeck\", \"Name\", \"Transported\") VALUES (%(index)s, %(PassengerId)s, %(HomePlanet)s, %(CryoSleep)s, %(Cabin)s, %(Destination)s, %(Age)s, %(VIP)s, %(RoomService)s, %(FoodCourt)s, %(ShoppingMall)s, %(Spa)s, %(VRDeck)s, %(Name)s, %(Transported)s)\n",
      "2022-03-26 15:33:39,426 INFO sqlalchemy.engine.base.Engine ({'index': 0, 'PassengerId': '0001_01', 'HomePlanet': 'Europa', 'CryoSleep': False, 'Cabin': 'B/0/P', 'Destination': 'TRAPPIST-1e', 'Age': 39.0, 'VIP': False, 'RoomService': 0.0, 'FoodCourt': 0.0, 'ShoppingMall': 0.0, 'Spa': 0.0, 'VRDeck': 0.0, 'Name': 'Maham Ofracculy', 'Transported': False}, {'index': 1, 'PassengerId': '0002_01', 'HomePlanet': 'Earth', 'CryoSleep': False, 'Cabin': 'F/0/S', 'Destination': 'TRAPPIST-1e', 'Age': 24.0, 'VIP': False, 'RoomService': 109.0, 'FoodCourt': 9.0, 'ShoppingMall': 25.0, 'Spa': 549.0, 'VRDeck': 44.0, 'Name': 'Juanna Vines', 'Transported': True}, {'index': 2, 'PassengerId': '0003_01', 'HomePlanet': 'Europa', 'CryoSleep': False, 'Cabin': 'A/0/S', 'Destination': 'TRAPPIST-1e', 'Age': 58.0, 'VIP': True, 'RoomService': 43.0, 'FoodCourt': 3576.0, 'ShoppingMall': 0.0, 'Spa': 6715.0, 'VRDeck': 49.0, 'Name': 'Altark Susent', 'Transported': False}, {'index': 3, 'PassengerId': '0003_02', 'HomePlanet': 'Europa', 'CryoSleep': False, 'Cabin': 'A/0/S', 'Destination': 'TRAPPIST-1e', 'Age': 33.0, 'VIP': False, 'RoomService': 0.0, 'FoodCourt': 1283.0, 'ShoppingMall': 371.0, 'Spa': 3329.0, 'VRDeck': 193.0, 'Name': 'Solam Susent', 'Transported': False}, {'index': 4, 'PassengerId': '0004_01', 'HomePlanet': 'Earth', 'CryoSleep': False, 'Cabin': 'F/1/S', 'Destination': 'TRAPPIST-1e', 'Age': 16.0, 'VIP': False, 'RoomService': 303.0, 'FoodCourt': 70.0, 'ShoppingMall': 151.0, 'Spa': 565.0, 'VRDeck': 2.0, 'Name': 'Willy Santantines', 'Transported': True}, {'index': 5, 'PassengerId': '0005_01', 'HomePlanet': 'Earth', 'CryoSleep': False, 'Cabin': 'F/0/P', 'Destination': 'PSO J318.5-22', 'Age': 44.0, 'VIP': False, 'RoomService': 0.0, 'FoodCourt': 483.0, 'ShoppingMall': 0.0, 'Spa': 291.0, 'VRDeck': 0.0, 'Name': 'Sandie Hinetthews', 'Transported': True}, {'index': 6, 'PassengerId': '0006_01', 'HomePlanet': 'Earth', 'CryoSleep': False, 'Cabin': 'F/2/S', 'Destination': 'TRAPPIST-1e', 'Age': 26.0, 'VIP': False, 'RoomService': 42.0, 'FoodCourt': 1539.0, 'ShoppingMall': 3.0, 'Spa': 0.0, 'VRDeck': 0.0, 'Name': 'Billex Jacostaffey', 'Transported': True}, {'index': 7, 'PassengerId': '0006_02', 'HomePlanet': 'Earth', 'CryoSleep': True, 'Cabin': 'G/0/S', 'Destination': 'TRAPPIST-1e', 'Age': 28.0, 'VIP': False, 'RoomService': 0.0, 'FoodCourt': 0.0, 'ShoppingMall': 0.0, 'Spa': 0.0, 'VRDeck': None, 'Name': 'Candra Jacostaffey', 'Transported': True}  ... displaying 10 of 8693 total bound parameter sets ...  {'index': 8691, 'PassengerId': '9280_01', 'HomePlanet': 'Europa', 'CryoSleep': False, 'Cabin': 'E/608/S', 'Destination': '55 Cancri e', 'Age': 32.0, 'VIP': False, 'RoomService': 0.0, 'FoodCourt': 1049.0, 'ShoppingMall': 0.0, 'Spa': 353.0, 'VRDeck': 3235.0, 'Name': 'Celeon Hontichre', 'Transported': False}, {'index': 8692, 'PassengerId': '9280_02', 'HomePlanet': 'Europa', 'CryoSleep': False, 'Cabin': 'E/608/S', 'Destination': 'TRAPPIST-1e', 'Age': 44.0, 'VIP': False, 'RoomService': 126.0, 'FoodCourt': 4688.0, 'ShoppingMall': 0.0, 'Spa': 0.0, 'VRDeck': 12.0, 'Name': 'Propsh Hontichre', 'Transported': True})\n",
      "2022-03-26 16:06:18,164 INFO sqlalchemy.engine.base.Engine COMMIT\n"
     ]
    }
   ],
   "source": [
    "data.to_sql(\"titanicspaceship\", con = engine, if_exists='append')"
   ]
  },
  {
   "cell_type": "markdown",
   "metadata": {},
   "source": [
    "### Confirm database population"
   ]
  },
  {
   "cell_type": "code",
   "execution_count": 12,
   "metadata": {},
   "outputs": [
    {
     "name": "stdout",
     "output_type": "stream",
     "text": [
      "2022-03-26 16:06:52,890 INFO sqlalchemy.engine.base.Engine SELECT * FROM titanicspaceship\n",
      "2022-03-26 16:06:52,892 INFO sqlalchemy.engine.base.Engine {}\n",
      "(0, '0001_01', 'Europa', False, 'B/0/P', 'TRAPPIST-1e', 39.0, 'false', 0.0, 0.0, 0.0, 0.0, 0.0, 'Maham Ofracculy', False)\n"
     ]
    }
   ],
   "source": [
    "print(engine.execute(\"SELECT * FROM titanicspaceship\").fetchone ())"
   ]
  },
  {
   "cell_type": "code",
   "execution_count": null,
   "metadata": {},
   "outputs": [],
   "source": []
  }
 ],
 "metadata": {
  "kernelspec": {
   "display_name": "Python 3",
   "language": "python",
   "name": "python3"
  },
  "language_info": {
   "codemirror_mode": {
    "name": "ipython",
    "version": 3
   },
   "file_extension": ".py",
   "mimetype": "text/x-python",
   "name": "python",
   "nbconvert_exporter": "python",
   "pygments_lexer": "ipython3",
   "version": "3.7.6"
  }
 },
 "nbformat": 4,
 "nbformat_minor": 4
}
